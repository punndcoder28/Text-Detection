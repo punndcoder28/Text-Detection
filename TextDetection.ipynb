{
 "cells": [
  {
   "cell_type": "markdown",
   "metadata": {},
   "source": [
    "Deliverables : \n",
    "    \n",
    "    1. TextBox++ model\n",
    "    2. Model can be run through the Utils provided\n",
    "    3. A .h5 format file can also be used to run (can be done using a pretrained model)\n",
    "   "
   ]
  },
  {
   "cell_type": "code",
   "execution_count": 1,
   "metadata": {},
   "outputs": [],
   "source": [
    "import os\n",
    "import time"
   ]
  },
  {
   "cell_type": "code",
   "execution_count": 2,
   "metadata": {},
   "outputs": [],
   "source": [
    "\n",
    "os.chdir(\"/Users/puneethk/Desktop/Projects/Text-Recognition\")\n"
   ]
  },
  {
   "cell_type": "code",
   "execution_count": 3,
   "metadata": {},
   "outputs": [
    {
     "name": "stderr",
     "output_type": "stream",
     "text": [
      "Using TensorFlow backend.\n"
     ]
    }
   ],
   "source": [
    "import numpy as np\n",
    "import cv2\n",
    "import tensorflow.compat.v1 as tf\n",
    "from timeit import default_timer as timer\n",
    "\n",
    "# textbox++ models\n",
    "from modelhelpers.tbpp_model import TBPP512, TBPP512_dense\n",
    "from modelhelpers.tbpp_utils import PriorUtil\n",
    "\n",
    "# ssd for help\n",
    "from modelhelpers.ssd_data import preprocess\n",
    "from modelhelpers.sl_utils import rbox3_to_polygon, polygon_to_rbox, rbox_to_polygon"
   ]
  },
  {
   "cell_type": "code",
   "execution_count": 5,
   "metadata": {},
   "outputs": [
    {
     "name": "stdout",
     "output_type": "stream",
     "text": [
      "WARNING:tensorflow:From /usr/local/lib/python3.7/site-packages/tensorflow_core/python/ops/resource_variable_ops.py:1630: calling BaseResourceVariable.__init__ (from tensorflow.python.ops.resource_variable_ops) with constraint is deprecated and will be removed in a future version.\n",
      "Instructions for updating:\n",
      "If using Keras pass *_constraint arguments to layers.\n",
      "['conv2d_33', 'concatenate_31', 'concatenate_32', 'concatenate_33', 'concatenate_34', 'concatenate_35', 'concatenate_36']\n"
     ]
    }
   ],
   "source": [
    "if __name__ == '__main__':\n",
    "    Model = TBPP512_dense\n",
    "    input_shape = (512,512,3)\n",
    "    weights_path = './Text-Detection/weights/weights.022.h5'\n",
    "    confidence_threshold = 0.35\n",
    "    confidence_threshold = 0.25\n",
    "\n",
    "    sl_graph = tf.Graph()\n",
    "    with sl_graph.as_default():\n",
    "        sl_session = tf.Session()\n",
    "        with sl_session.as_default():\n",
    "            sl_model = Model(input_shape)\n",
    "            prior_util = PriorUtil(sl_model)\n",
    "            sl_model.load_weights(weights_path, by_name=True)\n",
    "\n",
    "\n",
    "    input_width = 256\n",
    "    input_height = 32\n",
    "    weights_path = './Text-Detection/weights/weights.022.h5'"
   ]
  },
  {
   "cell_type": "code",
   "execution_count": 6,
   "metadata": {},
   "outputs": [
    {
     "name": "stdout",
     "output_type": "stream",
     "text": [
      "(360, 810, 3)\n",
      "360\n",
      "810\n",
      "Performace measure : 0.0637807846069336\n",
      "Performace measure : 2.4237658977508545\n",
      "DONE!\n",
      "Performace measure : 0.04191303253173828\n"
     ]
    }
   ],
   "source": [
    "from PIL import Image\n",
    "start_time = time.time()\n",
    "\n",
    "# Final TextBox++ Code : (Works on just image)\n",
    "input_size = input_shape[:2]\n",
    "\n",
    "# model to predict\n",
    "img = cv2.imread('./Text-Detection/Pictures/Sample/Test2.jpeg')\n",
    "IMG = Image.open('./Text-Detection/Pictures/Sample/Test2.jpeg')\n",
    "\n",
    "print(img.shape)\n",
    "img_h = img.shape[0]\n",
    "img_w = img.shape[1]\n",
    "print(img_h)\n",
    "print(img_w)\n",
    "\n",
    "img1 = np.copy(img)\n",
    "img2 = np.zeros_like(img)\n",
    "\n",
    "# model to predict\n",
    "x = np.array([preprocess(img, input_size)])\n",
    "\n",
    "\n",
    "\n",
    "elapsed_time = time.time() - start_time\n",
    "print(\"Performace measure : \"+str(elapsed_time))\n",
    "\n",
    "#Model start\n",
    "start_time = time.time()\n",
    "with sl_graph.as_default():\n",
    "    with sl_session.as_default():\n",
    "        y = sl_model.predict(x)\n",
    "\n",
    "elapsed_time = time.time() - start_time\n",
    "print(\"Performace measure : \"+str(elapsed_time))\n",
    "#Model end\n",
    "\n",
    "\n",
    "start_time = time.time()\n",
    "result = prior_util.decode(y[0], confidence_threshold)\n",
    "\n",
    "if len(result) > 0:\n",
    "    bboxs = result[:,0:4]\n",
    "    quads = result[:,4:12]\n",
    "    rboxes = result[:,12:17]\n",
    "\n",
    "    boxes = np.asarray([rbox3_to_polygon(r) for r in rboxes])\n",
    "\n",
    "    xy = boxes\n",
    "    xy = xy * [img_w, img_h]\n",
    "    xy = np.round(xy)\n",
    "    xy = xy.astype(np.int32)\n",
    "#     print(str(xy))\n",
    "    \n",
    "    coords = tuple([xy[0][0][0], xy[0][0][1], xy[0][2][0], xy[0][2][1]])\n",
    "#     print(str(coords))\n",
    "    \n",
    "    cv2.polylines(img1, tuple(xy), True, (0,0,255))\n",
    "    \n",
    "    im3 = IMG.convert(\"RGB\")\n",
    "    im3 = im3.crop(coords)\n",
    "    im3.save('./Text-Detection/Pictures/Results/Cropped/crop.jpg')\n",
    "    im3.show()\n",
    "\n",
    "    rboxes = np.array([polygon_to_rbox(b) for b in np.reshape(boxes, (-1,4,2))])\n",
    "    bh = rboxes[:,3]\n",
    "    rboxes[:,2] += bh * 0.1\n",
    "    rboxes[:,3] += bh * 0.2\n",
    "    boxes = np.array([rbox_to_polygon(f) for f in rboxes])\n",
    "\n",
    "    boxes = np.flip(boxes, axis=1) # TODO: fix order of points, why?\n",
    "    boxes = np.reshape(boxes, (-1, 8))\n",
    "\n",
    "    boxes_mask_a = np.array([b[2] > b[3] for b in rboxes]) # width > height, in square world\n",
    "    boxes_mask_b = np.array([not (np.any(b < 0) or np.any(b > 512)) for b in boxes]) # box inside image\n",
    "    boxes_mask = np.logical_and(boxes_mask_a, boxes_mask_b)\n",
    "\n",
    "    boxes = boxes[boxes_mask]\n",
    "    rboxes = rboxes[boxes_mask]\n",
    "    xy = xy[boxes_mask]\n",
    "\n",
    "    if len(boxes) == 0:\n",
    "        boxes = np.empty((0,8))\n",
    "\n",
    "# draw fps\n",
    "cv2.rectangle(img1, (0,0), (50, 17), (255,255,255), -1)\n",
    "cv2.imwrite('./Text-Detection/Pictures/Results/test2.jpg', img1)\n",
    "print(\"DONE!\")\n",
    "elapsed_time = time.time() - start_time\n",
    "print(\"Performace measure : \"+str(elapsed_time))\n"
   ]
  },
  {
   "cell_type": "markdown",
   "metadata": {},
   "source": [
    "variable xy is a 3D array containing the coordinates of box in the order (lefttop, righttop, rightbottom, leftbottom)"
   ]
  },
  {
   "cell_type": "code",
   "execution_count": null,
   "metadata": {},
   "outputs": [],
   "source": []
  }
 ],
 "metadata": {
  "kernelspec": {
   "display_name": "Python 3",
   "language": "python",
   "name": "python3"
  },
  "language_info": {
   "codemirror_mode": {
    "name": "ipython",
    "version": 3
   },
   "file_extension": ".py",
   "mimetype": "text/x-python",
   "name": "python",
   "nbconvert_exporter": "python",
   "pygments_lexer": "ipython3",
   "version": "3.7.6"
  }
 },
 "nbformat": 4,
 "nbformat_minor": 2
}
